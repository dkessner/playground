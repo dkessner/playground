{
 "cells": [
  {
   "cell_type": "code",
   "execution_count": 1,
   "id": "10fa5a91-ab8f-458c-a1b7-f8c461ec530b",
   "metadata": {},
   "outputs": [],
   "source": [
    "state1 = ((-1, 0, 1), (0, 0, 0), (1, 0, -1))\n",
    "\n",
    "Q = { (state1, 0):0, (state1, 1) : 2 }\n"
   ]
  },
  {
   "cell_type": "code",
   "execution_count": 2,
   "id": "a3b5caab-680c-428a-9255-0b5eddf1bd42",
   "metadata": {},
   "outputs": [
    {
     "data": {
      "text/plain": [
       "2"
      ]
     },
     "execution_count": 2,
     "metadata": {},
     "output_type": "execute_result"
    }
   ],
   "source": [
    "Q[(state1, 1)]"
   ]
  },
  {
   "cell_type": "code",
   "execution_count": null,
   "id": "6543cad9-4c6a-4bed-9270-e44b40aee932",
   "metadata": {},
   "outputs": [],
   "source": []
  }
 ],
 "metadata": {
  "kernelspec": {
   "display_name": "Python 3 (ipykernel)",
   "language": "python",
   "name": "python3"
  },
  "language_info": {
   "codemirror_mode": {
    "name": "ipython",
    "version": 3
   },
   "file_extension": ".py",
   "mimetype": "text/x-python",
   "name": "python",
   "nbconvert_exporter": "python",
   "pygments_lexer": "ipython3",
   "version": "3.12.6"
  }
 },
 "nbformat": 4,
 "nbformat_minor": 5
}
